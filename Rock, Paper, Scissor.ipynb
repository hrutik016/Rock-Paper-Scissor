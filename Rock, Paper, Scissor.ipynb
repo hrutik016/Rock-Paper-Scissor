{
 "cells": [
  {
   "cell_type": "markdown",
   "metadata": {},
   "source": [
    "# Rock, Paper, Scissor"
   ]
  },
  {
   "cell_type": "markdown",
   "metadata": {},
   "source": [
    "## Packages"
   ]
  },
  {
   "cell_type": "code",
   "execution_count": 1,
   "metadata": {},
   "outputs": [],
   "source": [
    "import os\n",
    "import numpy as np\n",
    "import matplotlib.pyplot as plt\n",
    "import matplotlib.image as mpimg"
   ]
  },
  {
   "cell_type": "markdown",
   "metadata": {},
   "source": [
    "## Data"
   ]
  },
  {
   "cell_type": "code",
   "execution_count": 2,
   "metadata": {},
   "outputs": [],
   "source": [
    "rock_dir = os.path.join(r'D:\\hrutik\\Documents\\Projects\\Rock, Paper, Scissor\\rps\\rps\\rock')\n",
    "paper_dir = os.path.join(r'D:\\hrutik\\Documents\\Projects\\Rock, Paper, Scissor\\rps\\rps\\paper')\n",
    "scissors_dir = os.path.join(r'D:\\hrutik\\Documents\\Projects\\Rock, Paper, Scissor\\rps\\rps\\scissors')\n",
    "\n",
    "validation_rock_dir = os.path.join(r'D:\\hrutik\\Documents\\Projects\\Rock, Paper, Scissor\\rps-test-set\\rps-test-set\\rock')\n",
    "validation_paper_dir = os.path.join(r'D:\\hrutik\\Documents\\Projects\\Rock, Paper, Scissor\\rps-test-set\\rps-test-set\\paper')\n",
    "validation_scissors_dir = os.path.join(r'D:\\hrutik\\Documents\\Projects\\Rock, Paper, Scissor\\rps-test-set\\rps-test-set\\scissors')"
   ]
  },
  {
   "cell_type": "code",
   "execution_count": 3,
   "metadata": {},
   "outputs": [
    {
     "name": "stdout",
     "output_type": "stream",
     "text": [
      "total training rock images: 840\n",
      "total training paper images: 840\n",
      "total training scissors images: 840\n",
      "total validation rock images: 124\n",
      "total validation paper images: 124\n",
      "total validation scissors images: 124\n"
     ]
    }
   ],
   "source": [
    "print('total training rock images:', len(os.listdir(rock_dir)))\n",
    "print('total training paper images:', len(os.listdir(paper_dir)))\n",
    "print('total training scissors images:', len(os.listdir(scissors_dir)))\n",
    "\n",
    "print('total validation rock images:', len(os.listdir(validation_rock_dir)))\n",
    "print('total validation paper images:', len(os.listdir(validation_paper_dir)))\n",
    "print('total validation scissors images:', len(os.listdir(validation_scissors_dir)))"
   ]
  },
  {
   "cell_type": "code",
   "execution_count": 4,
   "metadata": {},
   "outputs": [
    {
     "name": "stdout",
     "output_type": "stream",
     "text": [
      "['rock01-000.png', 'rock01-001.png', 'rock01-002.png', 'rock01-003.png', 'rock01-004.png', 'rock01-005.png', 'rock01-006.png', 'rock01-007.png', 'rock01-008.png', 'rock01-009.png']\n",
      "['paper01-000.png', 'paper01-001.png', 'paper01-002.png', 'paper01-003.png', 'paper01-004.png', 'paper01-005.png', 'paper01-006.png', 'paper01-007.png', 'paper01-008.png', 'paper01-009.png']\n",
      "['scissors01-000.png', 'scissors01-001.png', 'scissors01-002.png', 'scissors01-003.png', 'scissors01-004.png', 'scissors01-005.png', 'scissors01-006.png', 'scissors01-007.png', 'scissors01-008.png', 'scissors01-009.png']\n"
     ]
    }
   ],
   "source": [
    "rock_files = os.listdir(rock_dir)\n",
    "print(rock_files[:10])\n",
    "\n",
    "paper_files = os.listdir(paper_dir)\n",
    "print(paper_files[:10])\n",
    "\n",
    "scissors_files = os.listdir(scissors_dir)\n",
    "print(scissors_files[:10])"
   ]
  },
  {
   "cell_type": "code",
   "execution_count": 5,
   "metadata": {},
   "outputs": [],
   "source": [
    "import tensorflow as tf"
   ]
  },
  {
   "cell_type": "code",
   "execution_count": 6,
   "metadata": {},
   "outputs": [],
   "source": [
    "model = tf.keras.models.Sequential([\n",
    "    tf.keras.layers.Conv2D(64, (3,3), activation='relu', input_shape=(150, 150, 3)),\n",
    "    tf.keras.layers.MaxPooling2D(2,2),\n",
    "    tf.keras.layers.Conv2D(64, (3,3), activation='relu'),\n",
    "    tf.keras.layers.MaxPooling2D(2,2), \n",
    "    tf.keras.layers.Conv2D(128, (3,3), activation='relu'), \n",
    "    tf.keras.layers.MaxPooling2D(2,2),\n",
    "    tf.keras.layers.Conv2D(128, (3,3), activation='relu'), \n",
    "    tf.keras.layers.MaxPooling2D(2,2),\n",
    "    tf.keras.layers.Flatten(), \n",
    "    tf.keras.layers.Dropout(0.5),\n",
    "    tf.keras.layers.Dense(512, activation='relu'), \n",
    "    tf.keras.layers.Dense(3, activation='softmax')\n",
    "])"
   ]
  },
  {
   "cell_type": "markdown",
   "metadata": {},
   "source": [
    "## Model"
   ]
  },
  {
   "cell_type": "code",
   "execution_count": 7,
   "metadata": {},
   "outputs": [
    {
     "name": "stdout",
     "output_type": "stream",
     "text": [
      "Model: \"sequential\"\n",
      "_________________________________________________________________\n",
      "Layer (type)                 Output Shape              Param #   \n",
      "=================================================================\n",
      "conv2d (Conv2D)              (None, 148, 148, 64)      1792      \n",
      "_________________________________________________________________\n",
      "max_pooling2d (MaxPooling2D) (None, 74, 74, 64)        0         \n",
      "_________________________________________________________________\n",
      "conv2d_1 (Conv2D)            (None, 72, 72, 64)        36928     \n",
      "_________________________________________________________________\n",
      "max_pooling2d_1 (MaxPooling2 (None, 36, 36, 64)        0         \n",
      "_________________________________________________________________\n",
      "conv2d_2 (Conv2D)            (None, 34, 34, 128)       73856     \n",
      "_________________________________________________________________\n",
      "max_pooling2d_2 (MaxPooling2 (None, 17, 17, 128)       0         \n",
      "_________________________________________________________________\n",
      "conv2d_3 (Conv2D)            (None, 15, 15, 128)       147584    \n",
      "_________________________________________________________________\n",
      "max_pooling2d_3 (MaxPooling2 (None, 7, 7, 128)         0         \n",
      "_________________________________________________________________\n",
      "flatten (Flatten)            (None, 6272)              0         \n",
      "_________________________________________________________________\n",
      "dropout (Dropout)            (None, 6272)              0         \n",
      "_________________________________________________________________\n",
      "dense (Dense)                (None, 512)               3211776   \n",
      "_________________________________________________________________\n",
      "dense_1 (Dense)              (None, 3)                 1539      \n",
      "=================================================================\n",
      "Total params: 3,473,475\n",
      "Trainable params: 3,473,475\n",
      "Non-trainable params: 0\n",
      "_________________________________________________________________\n"
     ]
    }
   ],
   "source": [
    "model.summary()"
   ]
  },
  {
   "cell_type": "code",
   "execution_count": 8,
   "metadata": {},
   "outputs": [],
   "source": [
    "from tensorflow.keras.optimizers import RMSprop\n",
    "\n",
    "model.compile(optimizer = RMSprop(lr = 0.001),\n",
    "              loss = 'categorical_crossentropy',\n",
    "              metrics = ['accuracy'])"
   ]
  },
  {
   "cell_type": "code",
   "execution_count": 9,
   "metadata": {},
   "outputs": [
    {
     "name": "stdout",
     "output_type": "stream",
     "text": [
      "Found 2520 images belonging to 3 classes.\n",
      "Found 372 images belonging to 3 classes.\n"
     ]
    }
   ],
   "source": [
    "from keras_preprocessing import image\n",
    "from tensorflow.keras.preprocessing.image import ImageDataGenerator\n",
    "\n",
    "train_dir = r\"D:\\hrutik\\Documents\\Projects\\Rock, Paper, Scissor\\rps\\rps\"\n",
    "    \n",
    "validation_dir = r\"D:\\hrutik\\Documents\\Projects\\Rock, Paper, Scissor\\rps-test-set\\rps-test-set\"\n",
    "\n",
    "train_datagen = ImageDataGenerator( rescale = 1./255.,\n",
    "                                  rotation_range=40,\n",
    "                                  width_shift_range=0.2,\n",
    "                                  height_shift_range=0.2,\n",
    "                                  shear_range=0.2,\n",
    "                                  zoom_range=0.2,\n",
    "                                  horizontal_flip=True,\n",
    "                                  fill_mode = 'nearest')\n",
    "\n",
    "# here we are appling some image augmentation parameters, so that our model can train better. \n",
    "\n",
    "validation_datagen  = ImageDataGenerator( rescale = 1.0/255. )\n",
    "\n",
    "train_generator = train_datagen.flow_from_directory(train_dir,\n",
    "                                                    batch_size = 126,\n",
    "                                                    class_mode = 'categorical',\n",
    "                                                    target_size = (150, 150))     \n",
    "\n",
    "validation_generator =  validation_datagen.flow_from_directory(validation_dir,\n",
    "                                                         batch_size = 126,\n",
    "                                                         class_mode = 'categorical',\n",
    "                                                         target_size = (150, 150))"
   ]
  },
  {
   "cell_type": "code",
   "execution_count": 10,
   "metadata": {},
   "outputs": [
    {
     "name": "stdout",
     "output_type": "stream",
     "text": [
      "Epoch 1/15\n",
      "20/20 [==============================] - 82s 4s/step - loss: 1.5741 - accuracy: 0.3466 - val_loss: 1.0921 - val_accuracy: 0.3441\n",
      "Epoch 2/15\n",
      "20/20 [==============================] - 79s 4s/step - loss: 1.1197 - accuracy: 0.3730 - val_loss: 0.9672 - val_accuracy: 0.5618\n",
      "Epoch 3/15\n",
      "20/20 [==============================] - 76s 4s/step - loss: 1.0436 - accuracy: 0.4697 - val_loss: 1.0062 - val_accuracy: 0.4758\n",
      "Epoch 4/15\n",
      "20/20 [==============================] - 76s 4s/step - loss: 1.0037 - accuracy: 0.4798 - val_loss: 0.7003 - val_accuracy: 0.7984\n",
      "Epoch 5/15\n",
      "20/20 [==============================] - 76s 4s/step - loss: 1.0525 - accuracy: 0.5466 - val_loss: 0.6276 - val_accuracy: 0.6640\n",
      "Epoch 6/15\n",
      "20/20 [==============================] - 78s 4s/step - loss: 0.8358 - accuracy: 0.6267 - val_loss: 0.5255 - val_accuracy: 0.8414\n",
      "Epoch 7/15\n",
      "20/20 [==============================] - 76s 4s/step - loss: 0.6992 - accuracy: 0.7166 - val_loss: 0.3945 - val_accuracy: 0.9194\n",
      "Epoch 8/15\n",
      "20/20 [==============================] - 76s 4s/step - loss: 0.5450 - accuracy: 0.7632 - val_loss: 0.3713 - val_accuracy: 0.8011\n",
      "Epoch 9/15\n",
      "20/20 [==============================] - 76s 4s/step - loss: 0.6248 - accuracy: 0.7374 - val_loss: 0.1755 - val_accuracy: 0.9812\n",
      "Epoch 10/15\n",
      "20/20 [==============================] - 77s 4s/step - loss: 0.4871 - accuracy: 0.7836 - val_loss: 0.0996 - val_accuracy: 0.9973\n",
      "Epoch 11/15\n",
      "20/20 [==============================] - 78s 4s/step - loss: 0.3767 - accuracy: 0.8520 - val_loss: 0.0868 - val_accuracy: 1.0000\n",
      "Epoch 12/15\n",
      "20/20 [==============================] - 68s 3s/step - loss: 0.2942 - accuracy: 0.8929 - val_loss: 0.0528 - val_accuracy: 1.0000\n",
      "Epoch 13/15\n",
      "20/20 [==============================] - 69s 3s/step - loss: 0.2520 - accuracy: 0.8983 - val_loss: 0.2342 - val_accuracy: 0.8172\n",
      "Epoch 14/15\n",
      "20/20 [==============================] - 73s 4s/step - loss: 0.2270 - accuracy: 0.9172 - val_loss: 0.0428 - val_accuracy: 1.0000\n",
      "Epoch 15/15\n",
      "20/20 [==============================] - 68s 3s/step - loss: 0.1818 - accuracy: 0.9349 - val_loss: 0.2265 - val_accuracy: 0.8871\n"
     ]
    }
   ],
   "source": [
    "history = model.fit(train_generator,\n",
    "                              validation_data = validation_generator,\n",
    "                              steps_per_epoch = 20,\n",
    "                              epochs = 15,\n",
    "                              validation_steps = 3,\n",
    "                              verbose = 1)"
   ]
  },
  {
   "cell_type": "code",
   "execution_count": 11,
   "metadata": {},
   "outputs": [
    {
     "data": {
      "image/png": "[encoded data removed]",
      "text/plain": [
       "<Figure size 432x288 with 1 Axes>"
      ]
     },
     "metadata": {
      "needs_background": "light"
     },
     "output_type": "display_data"
    },
    {
     "data": {
      "text/plain": [
       "<Figure size 432x288 with 0 Axes>"
      ]
     },
     "metadata": {},
     "output_type": "display_data"
    }
   ],
   "source": [
    "import matplotlib.pyplot as plt\n",
    "acc = history.history['accuracy']\n",
    "val_acc = history.history['val_accuracy']\n",
    "loss = history.history['loss']\n",
    "val_loss = history.history['val_loss']\n",
    "\n",
    "epochs = range(len(acc))\n",
    "\n",
    "plt.plot(epochs, acc, 'r', label='Training accuracy')\n",
    "plt.plot(epochs, val_acc, 'b', label='Validation accuracy')\n",
    "plt.title('Training and validation accuracy')\n",
    "plt.legend(loc=0)\n",
    "plt.figure()\n",
    "\n",
    "\n",
    "plt.show()"
   ]
  },
  {
   "cell_type": "code",
   "execution_count": null,
   "metadata": {},
   "outputs": [],
   "source": []
  }
 ],
 "metadata": {
  "kernelspec": {
   "display_name": "Python 3",
   "language": "python",
   "name": "python3"
  },
  "language_info": {
   "codemirror_mode": {
    "name": "ipython",
    "version": 3
   },
   "file_extension": ".py",
   "mimetype": "text/x-python",
   "name": "python",
   "nbconvert_exporter": "python",
   "pygments_lexer": "ipython3",
   "version": "3.8.5"
  }
 },
 "nbformat": 4,
 "nbformat_minor": 4
}
